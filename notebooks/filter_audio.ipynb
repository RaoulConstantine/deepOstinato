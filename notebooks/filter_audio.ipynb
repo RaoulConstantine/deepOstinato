{
 "cells": [
  {
   "cell_type": "code",
   "execution_count": 38,
   "id": "0b340e1c",
   "metadata": {},
   "outputs": [],
   "source": [
    "import os\n",
    "import librosa as lr\n",
    "\n",
    "def filter_audio(path, max_size, min_size):\n",
    "    \"\"\"Function that filters the audio files to keep the ones with the required lenght only\"\"\"\n",
    "    audio = []\n",
    "    for file in os.scandir(path):\n",
    "        if os.stat(file).st_size < max_size and os.stat(file).st_size > min_size:     #os.stat(file).st_size\n",
    "            file, sr = lr.load(os.path.join(path, file)) #to check\n",
    "            audio.append(file)\n",
    "    return audio"
   ]
  },
  {
   "cell_type": "code",
   "execution_count": 39,
   "id": "78057551",
   "metadata": {},
   "outputs": [
    {
     "data": {
      "text/plain": [
       "[array([-2.2254766e-05, -2.5567924e-05, -2.1185357e-05, ...,\n",
       "        -4.4733258e-03, -3.2365641e-03, -1.3232187e-03], dtype=float32),\n",
       " array([-2.2254766e-05, -2.5567924e-05, -2.1185357e-05, ...,\n",
       "         9.7644632e-04,  7.8757992e-04,  6.1754178e-04], dtype=float32),\n",
       " array([-2.2254766e-05, -2.5567924e-05, -2.1185357e-05, ...,\n",
       "        -3.0813910e-05, -2.9832465e-05, -3.2165299e-05], dtype=float32),\n",
       " array([-2.2254766e-05, -2.5567924e-05, -2.1185357e-05, ...,\n",
       "         1.1185980e-04,  1.0109568e-04,  8.4050829e-05], dtype=float32),\n",
       " array([-2.2254766e-05, -2.5567924e-05, -2.1185357e-05, ...,\n",
       "        -7.5766882e-05, -8.6709202e-05, -1.7726127e-04], dtype=float32),\n",
       " array([-2.2254766e-05, -2.5567924e-05, -2.1185357e-05, ...,\n",
       "        -3.9132573e-03, -3.0621297e-03, -1.9856843e-03], dtype=float32),\n",
       " array([-2.2254766e-05, -2.5567924e-05, -2.1185357e-05, ...,\n",
       "        -5.9085293e-04, -5.5310735e-04, -5.7115220e-04], dtype=float32),\n",
       " array([-2.2254766e-05, -2.5567924e-05, -2.1185357e-05, ...,\n",
       "         6.2889564e-03,  4.0967036e-03,  2.2581511e-03], dtype=float32)]"
      ]
     },
     "execution_count": 39,
     "metadata": {},
     "output_type": "execute_result"
    }
   ],
   "source": [
    "path = \"/home/viviane/code/RaoulConstantine/deepOstinato/raw_data/sample_audio\"\n",
    "max_size = 55_000_000\n",
    "min_size = 20_000_000  \n",
    "#os.path.join(path, file)\n",
    "\n",
    "\n",
    "filter_audio(path, max_size, min_size)"
   ]
  },
  {
   "cell_type": "code",
   "execution_count": 40,
   "id": "ae07f599",
   "metadata": {},
   "outputs": [
    {
     "name": "stdout",
     "output_type": "stream",
     "text": [
      "<DirEntry 'Agnew, Roy, Australian Forest Pieces, 4dRd_HTq6ok.wav:Zone.Identifier'>\n",
      "0\n",
      "<DirEntry 'Alburger, Mark, The Twelve Fingers, Op.8, ZUmCV1zUuBw.wav'>\n",
      "21719340\n",
      "<DirEntry 'Agnew, Roy, Australian Forest Pieces, 4dRd_HTq6ok.wav'>\n",
      "11877164\n",
      "<DirEntry 'Alder, Ernest, Valse-caprice, sQ7wZLqvPCs.wav:Zone.Identifier'>\n",
      "0\n",
      "<DirEntry 'Ajith, Sriram, Winter Night, Op.1, q5xi-3xarzY.wav'>\n",
      "49006636\n",
      "<DirEntry 'Ajith, Sriram, Winter Night, Op.1, q5xi-3xarzY.wav:Zone.Identifier'>\n",
      "0\n",
      "<DirEntry 'Akimenko, Theodore, Jeux, Op.34, oT9uPpgqty4.wav:Zone.Identifier'>\n",
      "0\n",
      "<DirEntry 'Alden, Bob, The American Dancers, rsmDH2Zopt0.wav'>\n",
      "17623340\n",
      "<DirEntry 'Alburger, Mark, The Twelve Fingers, Op.8, ZUmCV1zUuBw.wav:Zone.Identifier'>\n",
      "0\n",
      "<DirEntry 'Alain, Albert, Espagnolerie, ts4pTlWdmMg.wav:Zone.Identifier'>\n",
      "0\n",
      "<DirEntry 'Albéniz, Isaac, Barcarola, Op.23, dJ3qmtEcQoA.wav:Zone.Identifier'>\n",
      "0\n",
      "<DirEntry 'Aitken, George, Sérénade, Op.17, 1e3XI4ubM98.wav:Zone.Identifier'>\n",
      "0\n",
      "<DirEntry 'Alden, Bob, The American Dancers, rsmDH2Zopt0.wav:Zone.Identifier'>\n",
      "0\n",
      "<DirEntry 'Aitken, George, Sérénade, Op.17, 1e3XI4ubM98.wav'>\n",
      "21080620\n",
      "<DirEntry 'Aguirre, Julián, Gato, w9CjQXt12YA.wav:Zone.Identifier'>\n",
      "0\n",
      "<DirEntry 'Alain, Albert, Espagnolerie, ts4pTlWdmMg.wav'>\n",
      "32142892\n",
      "<DirEntry 'Akimenko, Theodore, Jeux, Op.34, oT9uPpgqty4.wav'>\n",
      "95438636\n",
      "<DirEntry 'Alder, Ernest, Valse-caprice, sQ7wZLqvPCs.wav'>\n",
      "25502764\n",
      "<DirEntry 'Aguirre, Julián, Gato, w9CjQXt12YA.wav'>\n",
      "30705708\n",
      "<DirEntry 'Albéniz, Isaac, Barcarola, Op.23, dJ3qmtEcQoA.wav'>\n",
      "62961452\n"
     ]
    }
   ],
   "source": [
    "for file in os.scandir(\"raw_data/sample_audio\"):\n",
    "    print(file)\n",
    "    print(os.stat(file).st_size)\n",
    "    #print(os.stat(file))\n",
    "    #file_path = os.path.join(path, file)\n",
    "    #print(os.path.getsize(file))\n",
    "    #print(os.stat(file).st_size)\n"
   ]
  },
  {
   "cell_type": "code",
   "execution_count": null,
   "id": "adc9d1c4",
   "metadata": {},
   "outputs": [],
   "source": []
  }
 ],
 "metadata": {
  "kernelspec": {
   "display_name": "Python 3 (ipykernel)",
   "language": "python",
   "name": "python3"
  },
  "language_info": {
   "codemirror_mode": {
    "name": "ipython",
    "version": 3
   },
   "file_extension": ".py",
   "mimetype": "text/x-python",
   "name": "python",
   "nbconvert_exporter": "python",
   "pygments_lexer": "ipython3",
   "version": "3.8.12"
  },
  "toc": {
   "base_numbering": 1,
   "nav_menu": {},
   "number_sections": true,
   "sideBar": true,
   "skip_h1_title": false,
   "title_cell": "Table of Contents",
   "title_sidebar": "Contents",
   "toc_cell": false,
   "toc_position": {},
   "toc_section_display": true,
   "toc_window_display": false
  }
 },
 "nbformat": 4,
 "nbformat_minor": 5
}
